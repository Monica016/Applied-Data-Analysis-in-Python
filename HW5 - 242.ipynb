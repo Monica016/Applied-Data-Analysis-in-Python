{
 "cells": [
  {
   "cell_type": "markdown",
   "id": "cead048e",
   "metadata": {},
   "source": [
    "# HW5 IEOR 242"
   ]
  },
  {
   "cell_type": "markdown",
   "id": "ae356702",
   "metadata": {},
   "source": [
    "Yuehe Wen 3037343565"
   ]
  },
  {
   "cell_type": "markdown",
   "id": "24b53b2f",
   "metadata": {},
   "source": [
    "## (a.)"
   ]
  },
  {
   "cell_type": "markdown",
   "id": "5c1b703a",
   "metadata": {},
   "source": [
    "### (i.)"
   ]
  },
  {
   "cell_type": "code",
   "execution_count": 1,
   "id": "89d21b91",
   "metadata": {},
   "outputs": [],
   "source": [
    "import pandas as pd\n",
    "from bs4 import BeautifulSoup\n",
    "\n",
    "stack_train = pd.read_csv('stack_stats_2020_train.csv')\n",
    "stack_test = pd.read_csv('stack_stats_2020_test.csv')"
   ]
  },
  {
   "cell_type": "markdown",
   "id": "d4cc40e7",
   "metadata": {},
   "source": [
    "### (ii.)"
   ]
  },
  {
   "cell_type": "code",
   "execution_count": 2,
   "id": "33893e77",
   "metadata": {},
   "outputs": [],
   "source": [
    "def body_convert_html(document):\n",
    "    temp = BeautifulSoup(document,'html').get_text()\n",
    "    re_n = temp.replace(\"\\n\", \"\") \n",
    "    return re_n \n",
    "    "
   ]
  },
  {
   "cell_type": "code",
   "execution_count": 3,
   "id": "b25e2fee",
   "metadata": {},
   "outputs": [
    {
     "data": {
      "text/plain": [
       "0        I have a set of data that I am transforming us...\n",
       "1        We are sending a one bit message to someone.  ...\n",
       "2        I am aware that there is a similar post: Vecto...\n",
       "3        I have a Poisson distributed glm where I have ...\n",
       "4        1) how do i decide which transformation or sca...\n",
       "                               ...                        \n",
       "19242    I'm currently trying to implement a decision t...\n",
       "19243    What are the available tools (results) that ca...\n",
       "19244    Let $X^n=(X_1,X_2,...,X_n)$ denote a sample wh...\n",
       "19245    I have a data set of property sales where info...\n",
       "19246    I have data from a human subject experiment wi...\n",
       "Name: Body, Length: 19247, dtype: object"
      ]
     },
     "execution_count": 3,
     "metadata": {},
     "output_type": "execute_result"
    }
   ],
   "source": [
    "body_no_n = stack_train['Body'].apply(body_convert_html)\n",
    "body_no_n_test = stack_test['Body'].apply(body_convert_html)\n",
    "body_no_n"
   ]
  },
  {
   "cell_type": "markdown",
   "id": "7e0a946b",
   "metadata": {},
   "source": [
    "### (iii.)"
   ]
  },
  {
   "cell_type": "code",
   "execution_count": 4,
   "id": "c6fbeeaa",
   "metadata": {},
   "outputs": [],
   "source": [
    "from string import punctuation\n",
    "def remove_dig_punct(document):\n",
    "    document = document.lower()\n",
    "    no_punct = ''.join([character for character in document if character not in punctuation])\n",
    "    no_digit = ''.join([character for character in no_punct if not character.isdigit()])\n",
    "    return no_digit"
   ]
  },
  {
   "cell_type": "code",
   "execution_count": 5,
   "id": "06eb4c36",
   "metadata": {},
   "outputs": [
    {
     "data": {
      "text/plain": [
       "0            r emmeans back tranform clr data using clrinv\n",
       "1        trying to determine the failure rate of redund...\n",
       "2        how to derive categorical cross entropy update...\n",
       "3        learning more about glm parameters how to dig ...\n",
       "4        is there i guide to decide which transformatio...\n",
       "                               ...                        \n",
       "19242    how does decision tree classify tuple whose co...\n",
       "19243    what are the available tools results that can ...\n",
       "19244       maximum likelihood estimator for censored data\n",
       "19245    can you use a single missingness indicator for...\n",
       "19246    what is the appropriate nonparametric test for...\n",
       "Name: Title, Length: 19247, dtype: object"
      ]
     },
     "execution_count": 5,
     "metadata": {},
     "output_type": "execute_result"
    }
   ],
   "source": [
    "title = stack_train['Title'].apply(remove_dig_punct)\n",
    "title_test = stack_test['Title'].apply(remove_dig_punct)\n",
    "title"
   ]
  },
  {
   "cell_type": "code",
   "execution_count": 6,
   "id": "7531cb51",
   "metadata": {},
   "outputs": [],
   "source": [
    "def tag_clean(document):\n",
    "    no_digit = ''.join([character for character in document if not character.isdigit()])\n",
    "    clean = no_digit.replace(\"<\", \" \")\n",
    "    clean = clean.replace(\">\", \"\")\n",
    "    clean = clean.replace(\"-\", \" \")\n",
    "    return clean\n",
    "    "
   ]
  },
  {
   "cell_type": "code",
   "execution_count": 7,
   "id": "ae9cbc83",
   "metadata": {},
   "outputs": [
    {
     "data": {
      "text/plain": [
       "0                             r mixed model linear lsmeans\n",
       "1                                       probability python\n",
       "2                                   logistic cross entropy\n",
       "3                  generalized linear model interpretation\n",
       "4         python data transformation dataset feature en...\n",
       "                               ...                        \n",
       "19242                                  classification cart\n",
       "19243     convergence asymptotics central limit theorem...\n",
       "19244              estimation maximum likelihood censoring\n",
       "19245     missing data data preprocessing indicator fun...\n",
       "19246     r mixed model repeated measures nonparametric...\n",
       "Name: Tags, Length: 19247, dtype: object"
      ]
     },
     "execution_count": 7,
     "metadata": {},
     "output_type": "execute_result"
    }
   ],
   "source": [
    "tag = stack_train['Tags'].apply(tag_clean)\n",
    "tag_test = stack_test['Tags'].apply(tag_clean)\n",
    "tag"
   ]
  },
  {
   "cell_type": "code",
   "execution_count": 8,
   "id": "f54ed78e",
   "metadata": {},
   "outputs": [
    {
     "data": {
      "text/plain": [
       "0        i have a set of data that i am transforming us...\n",
       "1        we are sending a one bit message to someone  t...\n",
       "2        i am aware that there is a similar post vector...\n",
       "3        i have a poisson distributed glm where i have ...\n",
       "4         how do i decide which transformation or scali...\n",
       "                               ...                        \n",
       "19242    im currently trying to implement a decision tr...\n",
       "19243    what are the available tools results that can ...\n",
       "19244    let xnxxxn denote a sample where  ximathbf eps...\n",
       "19245    i have a data set of property sales where info...\n",
       "19246    i have data from a human subject experiment wi...\n",
       "Name: Body, Length: 19247, dtype: object"
      ]
     },
     "execution_count": 8,
     "metadata": {},
     "output_type": "execute_result"
    }
   ],
   "source": [
    "body = body_no_n.apply(remove_dig_punct)\n",
    "body_test = body_no_n_test.apply(remove_dig_punct)\n",
    "body"
   ]
  },
  {
   "cell_type": "markdown",
   "id": "70567656",
   "metadata": {},
   "source": [
    "### (iv.) & (v.)"
   ]
  },
  {
   "cell_type": "code",
   "execution_count": 9,
   "id": "31f1b06b",
   "metadata": {},
   "outputs": [],
   "source": [
    "import nltk\n",
    "from nltk.tokenize import word_tokenize\n",
    "from nltk.corpus import stopwords\n",
    "from nltk.stem import PorterStemmer\n",
    "porter = PorterStemmer()\n",
    "\n",
    "def tokenization(document):\n",
    "    text_tokenized = word_tokenize(document)\n",
    "    \n",
    "    stop_words = set(stopwords.words('english'))\n",
    "    words = [word for word in text_tokenized if not word in stop_words]\n",
    "    \n",
    "    stemmed_document = [porter.stem(word) for word in words]\n",
    "    \n",
    "    return stemmed_document"
   ]
  },
  {
   "cell_type": "code",
   "execution_count": 10,
   "id": "ffea422f",
   "metadata": {},
   "outputs": [
    {
     "data": {
      "text/plain": [
       "0        [set, data, transform, use, clr, functionlibra...\n",
       "1        [send, one, bit, messag, someon, chanc, messag...\n",
       "2        [awar, similar, post, vector, cross, entropi, ...\n",
       "3        [poisson, distribut, glm, identifi, origin, pa...\n",
       "4        [decid, transform, scale, use, pass, data, mac...\n",
       "                               ...                        \n",
       "19242    [im, current, tri, implement, decis, tree, ind...\n",
       "19243    [avail, tool, result, use, pin, rate, converg,...\n",
       "19244    [let, xnxxxn, denot, sampl, ximathbf, epsiloni...\n",
       "19245    [data, set, properti, sale, inform, previou, s...\n",
       "19246    [data, human, subject, experi, repeat, measur,...\n",
       "Name: Body, Length: 19247, dtype: object"
      ]
     },
     "execution_count": 10,
     "metadata": {},
     "output_type": "execute_result"
    }
   ],
   "source": [
    "body_cleaned = body.apply(tokenization)\n",
    "body_cleaned_test = body_test.apply(tokenization)\n",
    "body_cleaned"
   ]
  },
  {
   "cell_type": "code",
   "execution_count": 11,
   "id": "8b64a04d",
   "metadata": {},
   "outputs": [
    {
     "data": {
      "text/plain": [
       "0        [r, emmean, back, tranform, clr, data, use, cl...\n",
       "1        [tri, determin, failur, rate, redundantli, sen...\n",
       "2        [deriv, categor, cross, entropi, updat, rule, ...\n",
       "3                       [learn, glm, paramet, dig, deeper]\n",
       "4        [guid, decid, transform, choos, differ, scenar...\n",
       "                               ...                        \n",
       "19242    [decis, tree, classifi, tupl, whose, combin, a...\n",
       "19243    [avail, tool, result, use, pin, rate, converg,...\n",
       "19244           [maximum, likelihood, estim, censor, data]\n",
       "19245         [use, singl, missing, indic, sever, variabl]\n",
       "19246    [appropri, nonparametr, test, interact, effect...\n",
       "Name: Title, Length: 19247, dtype: object"
      ]
     },
     "execution_count": 11,
     "metadata": {},
     "output_type": "execute_result"
    }
   ],
   "source": [
    "title_cleaned = title.apply(tokenization)\n",
    "title_cleaned_test = title_test.apply(tokenization)\n",
    "title_cleaned"
   ]
  },
  {
   "cell_type": "code",
   "execution_count": 12,
   "id": "dcd6415b",
   "metadata": {},
   "outputs": [
    {
     "data": {
      "text/plain": [
       "0                          [r, mix, model, linear, lsmean]\n",
       "1                                        [probabl, python]\n",
       "2                                 [logist, cross, entropi]\n",
       "3                        [gener, linear, model, interpret]\n",
       "4        [python, data, transform, dataset, featur, eng...\n",
       "                               ...                        \n",
       "19242                                      [classif, cart]\n",
       "19243    [converg, asymptot, central, limit, theorem, e...\n",
       "19244                 [estim, maximum, likelihood, censor]\n",
       "19245      [miss, data, data, preprocess, indic, function]\n",
       "19246    [r, mix, model, repeat, measur, nonparametr, w...\n",
       "Name: Tags, Length: 19247, dtype: object"
      ]
     },
     "execution_count": 12,
     "metadata": {},
     "output_type": "execute_result"
    }
   ],
   "source": [
    "tag_cleaned = tag.apply(tokenization)\n",
    "tag_cleaned_test = tag_test.apply(tokenization)\n",
    "tag_cleaned"
   ]
  },
  {
   "cell_type": "code",
   "execution_count": 13,
   "id": "6dc98109",
   "metadata": {},
   "outputs": [
    {
     "data": {
      "text/plain": [
       "0        [set_body, data_body, transform_body, use_body...\n",
       "1        [send_body, one_body, bit_body, messag_body, s...\n",
       "2        [awar_body, similar_body, post_body, vector_bo...\n",
       "3        [poisson_body, distribut_body, glm_body, ident...\n",
       "4        [decid_body, transform_body, scale_body, use_b...\n",
       "                               ...                        \n",
       "19242    [im_body, current_body, tri_body, implement_bo...\n",
       "19243    [avail_body, tool_body, result_body, use_body,...\n",
       "19244    [let_body, xnxxxn_body, denot_body, sampl_body...\n",
       "19245    [data_body, set_body, properti_body, sale_body...\n",
       "19246    [data_body, human_body, subject_body, experi_b...\n",
       "Name: Body, Length: 19247, dtype: object"
      ]
     },
     "execution_count": 13,
     "metadata": {},
     "output_type": "execute_result"
    }
   ],
   "source": [
    "def add_suffix_body(document):\n",
    "    a = [sub + \"_body\" for sub in document]\n",
    "    return a\n",
    "body_final = body_cleaned.apply(add_suffix_body)\n",
    "body_final_test = body_cleaned_test.apply(add_suffix_body)\n",
    "body_final"
   ]
  },
  {
   "cell_type": "code",
   "execution_count": 14,
   "id": "5aa2a101",
   "metadata": {},
   "outputs": [
    {
     "data": {
      "text/plain": [
       "0        [r_title, emmean_title, back_title, tranform_t...\n",
       "1        [tri_title, determin_title, failur_title, rate...\n",
       "2        [deriv_title, categor_title, cross_title, entr...\n",
       "3        [learn_title, glm_title, paramet_title, dig_ti...\n",
       "4        [guid_title, decid_title, transform_title, cho...\n",
       "                               ...                        \n",
       "19242    [decis_title, tree_title, classifi_title, tupl...\n",
       "19243    [avail_title, tool_title, result_title, use_ti...\n",
       "19244    [maximum_title, likelihood_title, estim_title,...\n",
       "19245    [use_title, singl_title, missing_title, indic_...\n",
       "19246    [appropri_title, nonparametr_title, test_title...\n",
       "Name: Title, Length: 19247, dtype: object"
      ]
     },
     "execution_count": 14,
     "metadata": {},
     "output_type": "execute_result"
    }
   ],
   "source": [
    "def add_suffix_title(document):\n",
    "    a = [sub + \"_title\" for sub in document]\n",
    "    return a\n",
    "title_final = title_cleaned.apply(add_suffix_title)\n",
    "title_final_test = title_cleaned_test.apply(add_suffix_title)\n",
    "title_final"
   ]
  },
  {
   "cell_type": "code",
   "execution_count": 15,
   "id": "3ec65687",
   "metadata": {},
   "outputs": [
    {
     "data": {
      "text/plain": [
       "0        [r_tag, mix_tag, model_tag, linear_tag, lsmean...\n",
       "1                                [probabl_tag, python_tag]\n",
       "2                     [logist_tag, cross_tag, entropi_tag]\n",
       "3        [gener_tag, linear_tag, model_tag, interpret_tag]\n",
       "4        [python_tag, data_tag, transform_tag, dataset_...\n",
       "                               ...                        \n",
       "19242                              [classif_tag, cart_tag]\n",
       "19243    [converg_tag, asymptot_tag, central_tag, limit...\n",
       "19244    [estim_tag, maximum_tag, likelihood_tag, censo...\n",
       "19245    [miss_tag, data_tag, data_tag, preprocess_tag,...\n",
       "19246    [r_tag, mix_tag, model_tag, repeat_tag, measur...\n",
       "Name: Tags, Length: 19247, dtype: object"
      ]
     },
     "execution_count": 15,
     "metadata": {},
     "output_type": "execute_result"
    }
   ],
   "source": [
    "def add_suffix_tag(document):\n",
    "    a = [sub + \"_tag\" for sub in document]\n",
    "    return a\n",
    "tag_final = tag_cleaned.apply(add_suffix_tag)\n",
    "tag_final_test = tag_cleaned_test.apply(add_suffix_tag)\n",
    "tag_final"
   ]
  },
  {
   "cell_type": "code",
   "execution_count": 16,
   "id": "fcec1337",
   "metadata": {},
   "outputs": [],
   "source": [
    "merge = body_final + title_final + tag_final\n",
    "merge_test = body_final_test + title_final_test + tag_final_test"
   ]
  },
  {
   "cell_type": "code",
   "execution_count": 17,
   "id": "c5ab4619",
   "metadata": {},
   "outputs": [],
   "source": [
    "from nltk.tokenize.treebank import TreebankWordDetokenizer\n",
    "\n",
    "merge_detokenized = merge.apply(TreebankWordDetokenizer().detokenize)\n",
    "merge_detokenized_test = merge_test.apply(TreebankWordDetokenizer().detokenize)\n",
    "\n"
   ]
  },
  {
   "cell_type": "code",
   "execution_count": 18,
   "id": "6d694e9b",
   "metadata": {},
   "outputs": [],
   "source": [
    "from sklearn.feature_extraction.text import CountVectorizer\n",
    "\n",
    "countvec = CountVectorizer(min_df=0.005)\n"
   ]
  },
  {
   "cell_type": "code",
   "execution_count": 19,
   "id": "d1283d98",
   "metadata": {},
   "outputs": [],
   "source": [
    "def Vectorize(document, stack_train,countvec):\n",
    "    \n",
    "    sparse_dtm = countvec.fit_transform(document)\n",
    "    dtm = pd.DataFrame(sparse_dtm.toarray(), columns=countvec.get_feature_names(), index=stack_train.index)\n",
    "     \n",
    "    \n",
    "    return dtm"
   ]
  },
  {
   "cell_type": "code",
   "execution_count": 20,
   "id": "51bc4395",
   "metadata": {},
   "outputs": [
    {
     "data": {
      "text/plain": [
       "l_body             27086\n",
       "use_body           20319\n",
       "model_body         20112\n",
       "data_body          17301\n",
       "variabl_body       12697\n",
       "                   ...  \n",
       "aic_tag               99\n",
       "structur_tag          99\n",
       "implement_title       98\n",
       "better_title          98\n",
       "creat_title           98\n",
       "Length: 1775, dtype: int64"
      ]
     },
     "execution_count": 20,
     "metadata": {},
     "output_type": "execute_result"
    }
   ],
   "source": [
    "dtm = Vectorize(merge_detokenized,stack_train, countvec)\n",
    "dtm_test = Vectorize(merge_detokenized_test, stack_test,countvec)\n",
    "dtm.sum().sort_values(ascending=False)"
   ]
  },
  {
   "cell_type": "code",
   "execution_count": 21,
   "id": "458d9aeb",
   "metadata": {},
   "outputs": [
    {
     "data": {
      "text/plain": [
       "l_body          9792\n",
       "use_body        8519\n",
       "model_body      8134\n",
       "data_body       7358\n",
       "variabl_body    5312\n",
       "                ... \n",
       "comput_tag        42\n",
       "bay_title         42\n",
       "good_tag          42\n",
       "central_tag       42\n",
       "show_title        42\n",
       "Length: 1782, dtype: int64"
      ]
     },
     "execution_count": 21,
     "metadata": {},
     "output_type": "execute_result"
    }
   ],
   "source": [
    "dtm_test.sum().sort_values(ascending=False)"
   ]
  },
  {
   "cell_type": "code",
   "execution_count": 22,
   "id": "596d358c",
   "metadata": {},
   "outputs": [
    {
     "data": {
      "text/plain": [
       "good_tag           42\n",
       "central_tag        42\n",
       "show_title         42\n",
       "bay_title          42\n",
       "comput_tag         42\n",
       "give_title         43\n",
       "nonlinear_title    43\n",
       "dtype: int64"
      ]
     },
     "execution_count": 22,
     "metadata": {},
     "output_type": "execute_result"
    }
   ],
   "source": [
    "least_freq = dtm_test.sum().sort_values(ascending=True)\n",
    "least_freq[0:7]"
   ]
  },
  {
   "cell_type": "code",
   "execution_count": 23,
   "id": "ef71f906",
   "metadata": {},
   "outputs": [],
   "source": [
    "dtm_test = dtm_test.drop(columns = ['good_tag','central_tag','show_title','bay_title','comput_tag','give_title','nonlinear_title'])"
   ]
  },
  {
   "cell_type": "code",
   "execution_count": 160,
   "id": "e5bf5fef",
   "metadata": {},
   "outputs": [
    {
     "data": {
      "text/html": [
       "<div>\n",
       "<style scoped>\n",
       "    .dataframe tbody tr th:only-of-type {\n",
       "        vertical-align: middle;\n",
       "    }\n",
       "\n",
       "    .dataframe tbody tr th {\n",
       "        vertical-align: top;\n",
       "    }\n",
       "\n",
       "    .dataframe thead th {\n",
       "        text-align: right;\n",
       "    }\n",
       "</style>\n",
       "<table border=\"1\" class=\"dataframe\">\n",
       "  <thead>\n",
       "    <tr style=\"text-align: right;\">\n",
       "      <th></th>\n",
       "      <th>_body</th>\n",
       "      <th>ab_body</th>\n",
       "      <th>abil_body</th>\n",
       "      <th>abl_body</th>\n",
       "      <th>absolut_body</th>\n",
       "      <th>accept_body</th>\n",
       "      <th>access_body</th>\n",
       "      <th>accord_body</th>\n",
       "      <th>account_body</th>\n",
       "      <th>accur_body</th>\n",
       "      <th>...</th>\n",
       "      <th>xy_body</th>\n",
       "      <th>ye_body</th>\n",
       "      <th>year_body</th>\n",
       "      <th>yet_body</th>\n",
       "      <th>yi_body</th>\n",
       "      <th>yield_body</th>\n",
       "      <th>yt_body</th>\n",
       "      <th>z_body</th>\n",
       "      <th>zero_body</th>\n",
       "      <th>zero_title</th>\n",
       "    </tr>\n",
       "  </thead>\n",
       "  <tbody>\n",
       "    <tr>\n",
       "      <th>0</th>\n",
       "      <td>0</td>\n",
       "      <td>0</td>\n",
       "      <td>0</td>\n",
       "      <td>0</td>\n",
       "      <td>0</td>\n",
       "      <td>0</td>\n",
       "      <td>0</td>\n",
       "      <td>0</td>\n",
       "      <td>0</td>\n",
       "      <td>0</td>\n",
       "      <td>...</td>\n",
       "      <td>0</td>\n",
       "      <td>0</td>\n",
       "      <td>0</td>\n",
       "      <td>0</td>\n",
       "      <td>0</td>\n",
       "      <td>0</td>\n",
       "      <td>0</td>\n",
       "      <td>0</td>\n",
       "      <td>0</td>\n",
       "      <td>0</td>\n",
       "    </tr>\n",
       "    <tr>\n",
       "      <th>1</th>\n",
       "      <td>0</td>\n",
       "      <td>0</td>\n",
       "      <td>0</td>\n",
       "      <td>0</td>\n",
       "      <td>0</td>\n",
       "      <td>0</td>\n",
       "      <td>0</td>\n",
       "      <td>0</td>\n",
       "      <td>0</td>\n",
       "      <td>0</td>\n",
       "      <td>...</td>\n",
       "      <td>0</td>\n",
       "      <td>0</td>\n",
       "      <td>0</td>\n",
       "      <td>0</td>\n",
       "      <td>0</td>\n",
       "      <td>0</td>\n",
       "      <td>0</td>\n",
       "      <td>0</td>\n",
       "      <td>0</td>\n",
       "      <td>0</td>\n",
       "    </tr>\n",
       "    <tr>\n",
       "      <th>2</th>\n",
       "      <td>0</td>\n",
       "      <td>0</td>\n",
       "      <td>0</td>\n",
       "      <td>0</td>\n",
       "      <td>0</td>\n",
       "      <td>0</td>\n",
       "      <td>0</td>\n",
       "      <td>0</td>\n",
       "      <td>0</td>\n",
       "      <td>0</td>\n",
       "      <td>...</td>\n",
       "      <td>0</td>\n",
       "      <td>0</td>\n",
       "      <td>0</td>\n",
       "      <td>0</td>\n",
       "      <td>0</td>\n",
       "      <td>0</td>\n",
       "      <td>0</td>\n",
       "      <td>0</td>\n",
       "      <td>0</td>\n",
       "      <td>0</td>\n",
       "    </tr>\n",
       "    <tr>\n",
       "      <th>3</th>\n",
       "      <td>0</td>\n",
       "      <td>0</td>\n",
       "      <td>0</td>\n",
       "      <td>0</td>\n",
       "      <td>0</td>\n",
       "      <td>0</td>\n",
       "      <td>0</td>\n",
       "      <td>0</td>\n",
       "      <td>0</td>\n",
       "      <td>0</td>\n",
       "      <td>...</td>\n",
       "      <td>0</td>\n",
       "      <td>0</td>\n",
       "      <td>0</td>\n",
       "      <td>0</td>\n",
       "      <td>0</td>\n",
       "      <td>0</td>\n",
       "      <td>0</td>\n",
       "      <td>0</td>\n",
       "      <td>0</td>\n",
       "      <td>0</td>\n",
       "    </tr>\n",
       "    <tr>\n",
       "      <th>4</th>\n",
       "      <td>0</td>\n",
       "      <td>0</td>\n",
       "      <td>0</td>\n",
       "      <td>0</td>\n",
       "      <td>0</td>\n",
       "      <td>0</td>\n",
       "      <td>0</td>\n",
       "      <td>0</td>\n",
       "      <td>0</td>\n",
       "      <td>0</td>\n",
       "      <td>...</td>\n",
       "      <td>0</td>\n",
       "      <td>0</td>\n",
       "      <td>0</td>\n",
       "      <td>0</td>\n",
       "      <td>0</td>\n",
       "      <td>0</td>\n",
       "      <td>0</td>\n",
       "      <td>0</td>\n",
       "      <td>0</td>\n",
       "      <td>0</td>\n",
       "    </tr>\n",
       "    <tr>\n",
       "      <th>...</th>\n",
       "      <td>...</td>\n",
       "      <td>...</td>\n",
       "      <td>...</td>\n",
       "      <td>...</td>\n",
       "      <td>...</td>\n",
       "      <td>...</td>\n",
       "      <td>...</td>\n",
       "      <td>...</td>\n",
       "      <td>...</td>\n",
       "      <td>...</td>\n",
       "      <td>...</td>\n",
       "      <td>...</td>\n",
       "      <td>...</td>\n",
       "      <td>...</td>\n",
       "      <td>...</td>\n",
       "      <td>...</td>\n",
       "      <td>...</td>\n",
       "      <td>...</td>\n",
       "      <td>...</td>\n",
       "      <td>...</td>\n",
       "      <td>...</td>\n",
       "    </tr>\n",
       "    <tr>\n",
       "      <th>19242</th>\n",
       "      <td>0</td>\n",
       "      <td>0</td>\n",
       "      <td>0</td>\n",
       "      <td>2</td>\n",
       "      <td>0</td>\n",
       "      <td>0</td>\n",
       "      <td>0</td>\n",
       "      <td>0</td>\n",
       "      <td>0</td>\n",
       "      <td>0</td>\n",
       "      <td>...</td>\n",
       "      <td>0</td>\n",
       "      <td>0</td>\n",
       "      <td>0</td>\n",
       "      <td>0</td>\n",
       "      <td>0</td>\n",
       "      <td>0</td>\n",
       "      <td>0</td>\n",
       "      <td>0</td>\n",
       "      <td>0</td>\n",
       "      <td>0</td>\n",
       "    </tr>\n",
       "    <tr>\n",
       "      <th>19243</th>\n",
       "      <td>0</td>\n",
       "      <td>0</td>\n",
       "      <td>0</td>\n",
       "      <td>0</td>\n",
       "      <td>0</td>\n",
       "      <td>0</td>\n",
       "      <td>0</td>\n",
       "      <td>0</td>\n",
       "      <td>0</td>\n",
       "      <td>0</td>\n",
       "      <td>...</td>\n",
       "      <td>0</td>\n",
       "      <td>0</td>\n",
       "      <td>0</td>\n",
       "      <td>0</td>\n",
       "      <td>0</td>\n",
       "      <td>0</td>\n",
       "      <td>0</td>\n",
       "      <td>0</td>\n",
       "      <td>1</td>\n",
       "      <td>0</td>\n",
       "    </tr>\n",
       "    <tr>\n",
       "      <th>19244</th>\n",
       "      <td>0</td>\n",
       "      <td>0</td>\n",
       "      <td>0</td>\n",
       "      <td>0</td>\n",
       "      <td>0</td>\n",
       "      <td>0</td>\n",
       "      <td>0</td>\n",
       "      <td>1</td>\n",
       "      <td>0</td>\n",
       "      <td>0</td>\n",
       "      <td>...</td>\n",
       "      <td>0</td>\n",
       "      <td>0</td>\n",
       "      <td>0</td>\n",
       "      <td>0</td>\n",
       "      <td>0</td>\n",
       "      <td>0</td>\n",
       "      <td>0</td>\n",
       "      <td>0</td>\n",
       "      <td>0</td>\n",
       "      <td>0</td>\n",
       "    </tr>\n",
       "    <tr>\n",
       "      <th>19245</th>\n",
       "      <td>0</td>\n",
       "      <td>0</td>\n",
       "      <td>0</td>\n",
       "      <td>0</td>\n",
       "      <td>0</td>\n",
       "      <td>0</td>\n",
       "      <td>0</td>\n",
       "      <td>0</td>\n",
       "      <td>0</td>\n",
       "      <td>0</td>\n",
       "      <td>...</td>\n",
       "      <td>0</td>\n",
       "      <td>0</td>\n",
       "      <td>2</td>\n",
       "      <td>0</td>\n",
       "      <td>0</td>\n",
       "      <td>0</td>\n",
       "      <td>0</td>\n",
       "      <td>0</td>\n",
       "      <td>0</td>\n",
       "      <td>0</td>\n",
       "    </tr>\n",
       "    <tr>\n",
       "      <th>19246</th>\n",
       "      <td>0</td>\n",
       "      <td>0</td>\n",
       "      <td>0</td>\n",
       "      <td>0</td>\n",
       "      <td>0</td>\n",
       "      <td>0</td>\n",
       "      <td>0</td>\n",
       "      <td>0</td>\n",
       "      <td>0</td>\n",
       "      <td>0</td>\n",
       "      <td>...</td>\n",
       "      <td>0</td>\n",
       "      <td>0</td>\n",
       "      <td>0</td>\n",
       "      <td>0</td>\n",
       "      <td>0</td>\n",
       "      <td>0</td>\n",
       "      <td>0</td>\n",
       "      <td>0</td>\n",
       "      <td>0</td>\n",
       "      <td>0</td>\n",
       "    </tr>\n",
       "  </tbody>\n",
       "</table>\n",
       "<p>19247 rows × 1775 columns</p>\n",
       "</div>"
      ],
      "text/plain": [
       "       _body  ab_body  abil_body  abl_body  absolut_body  accept_body  \\\n",
       "0          0        0          0         0             0            0   \n",
       "1          0        0          0         0             0            0   \n",
       "2          0        0          0         0             0            0   \n",
       "3          0        0          0         0             0            0   \n",
       "4          0        0          0         0             0            0   \n",
       "...      ...      ...        ...       ...           ...          ...   \n",
       "19242      0        0          0         2             0            0   \n",
       "19243      0        0          0         0             0            0   \n",
       "19244      0        0          0         0             0            0   \n",
       "19245      0        0          0         0             0            0   \n",
       "19246      0        0          0         0             0            0   \n",
       "\n",
       "       access_body  accord_body  account_body  accur_body  ...  xy_body  \\\n",
       "0                0            0             0           0  ...        0   \n",
       "1                0            0             0           0  ...        0   \n",
       "2                0            0             0           0  ...        0   \n",
       "3                0            0             0           0  ...        0   \n",
       "4                0            0             0           0  ...        0   \n",
       "...            ...          ...           ...         ...  ...      ...   \n",
       "19242            0            0             0           0  ...        0   \n",
       "19243            0            0             0           0  ...        0   \n",
       "19244            0            1             0           0  ...        0   \n",
       "19245            0            0             0           0  ...        0   \n",
       "19246            0            0             0           0  ...        0   \n",
       "\n",
       "       ye_body  year_body  yet_body  yi_body  yield_body  yt_body  z_body  \\\n",
       "0            0          0         0        0           0        0       0   \n",
       "1            0          0         0        0           0        0       0   \n",
       "2            0          0         0        0           0        0       0   \n",
       "3            0          0         0        0           0        0       0   \n",
       "4            0          0         0        0           0        0       0   \n",
       "...        ...        ...       ...      ...         ...      ...     ...   \n",
       "19242        0          0         0        0           0        0       0   \n",
       "19243        0          0         0        0           0        0       0   \n",
       "19244        0          0         0        0           0        0       0   \n",
       "19245        0          2         0        0           0        0       0   \n",
       "19246        0          0         0        0           0        0       0   \n",
       "\n",
       "       zero_body  zero_title  \n",
       "0              0           0  \n",
       "1              0           0  \n",
       "2              0           0  \n",
       "3              0           0  \n",
       "4              0           0  \n",
       "...          ...         ...  \n",
       "19242          0           0  \n",
       "19243          1           0  \n",
       "19244          0           0  \n",
       "19245          0           0  \n",
       "19246          0           0  \n",
       "\n",
       "[19247 rows x 1775 columns]"
      ]
     },
     "execution_count": 160,
     "metadata": {},
     "output_type": "execute_result"
    }
   ],
   "source": [
    "dtm"
   ]
  },
  {
   "cell_type": "markdown",
   "id": "c241526c",
   "metadata": {},
   "source": [
    "## (b.)"
   ]
  },
  {
   "cell_type": "markdown",
   "id": "7c7c31ab",
   "metadata": {},
   "source": [
    "In this part, I use CART, logistic regression, random forest and LDA to build the best model. In the first CART method, I cross validate 1000 rows of the training due to running time trouble and the best ccp_alpha given is 0.006. The result of the model has an accuracy of 0.5127, TPR of 0.02 and FPR of 0.02. For the logistic regression, the accuracy is 0.498, TPR is 0.77, FPR is 0.76. For the random forest model, we choose the max_feature to be 25 and get an accuracy of 0.502, TPR of 0.8, FPR of 0.785. Finally, we train the dataset with LDA and with an accuracy of 0.5, TPR of 0.78, FPR of 0.765. \n",
    "\n",
    "Comparing the four models, we can see that the model with the highest accuracy is the CART model, but it has a very low TPR and FPR rate. Since we want to decide whether a question is useful or not, we focus more on the accuracy and therefore our final choice is to use the CART model. The metrics of the model after bootstrap is:"
   ]
  },
  {
   "cell_type": "code",
   "execution_count": 142,
   "id": "1e9e4113",
   "metadata": {},
   "outputs": [
    {
     "data": {
      "text/html": [
       "<div>\n",
       "<style scoped>\n",
       "    .dataframe tbody tr th:only-of-type {\n",
       "        vertical-align: middle;\n",
       "    }\n",
       "\n",
       "    .dataframe tbody tr th {\n",
       "        vertical-align: top;\n",
       "    }\n",
       "\n",
       "    .dataframe thead th {\n",
       "        text-align: right;\n",
       "    }\n",
       "</style>\n",
       "<table border=\"1\" class=\"dataframe\">\n",
       "  <thead>\n",
       "    <tr style=\"text-align: right;\">\n",
       "      <th></th>\n",
       "      <th>Metrics after boostrap</th>\n",
       "    </tr>\n",
       "  </thead>\n",
       "  <tbody>\n",
       "    <tr>\n",
       "      <th>Accuracy</th>\n",
       "      <td>0.512759</td>\n",
       "    </tr>\n",
       "    <tr>\n",
       "      <th>TPR</th>\n",
       "      <td>0.027077</td>\n",
       "    </tr>\n",
       "    <tr>\n",
       "      <th>FPR</th>\n",
       "      <td>0.024835</td>\n",
       "    </tr>\n",
       "  </tbody>\n",
       "</table>\n",
       "</div>"
      ],
      "text/plain": [
       "          Metrics after boostrap\n",
       "Accuracy                0.512759\n",
       "TPR                     0.027077\n",
       "FPR                     0.024835"
      ]
     },
     "execution_count": 142,
     "metadata": {},
     "output_type": "execute_result"
    }
   ],
   "source": [
    "table_bs"
   ]
  },
  {
   "cell_type": "markdown",
   "id": "abe168ad",
   "metadata": {},
   "source": [
    "And the confidence interval for accuracy is [0.50200024, 0.52345739], the confidence interval for TPR is [0.02217398, 0.03230617], the confidence interval for FPR is [0.02017825, 0.02969592]."
   ]
  },
  {
   "cell_type": "markdown",
   "id": "61225cd8",
   "metadata": {},
   "source": [
    "### CART Method"
   ]
  },
  {
   "cell_type": "code",
   "execution_count": 24,
   "id": "9bfbb6d5",
   "metadata": {},
   "outputs": [],
   "source": [
    "useful_train = stack_train['Score'] >= 1\n",
    "useful_train = useful_train*1\n",
    "\n",
    "useful_test = stack_test['Score'] >= 1\n",
    "useful_test = useful_test*1"
   ]
  },
  {
   "cell_type": "code",
   "execution_count": 25,
   "id": "baf253f2",
   "metadata": {},
   "outputs": [],
   "source": [
    "y_train = useful_train\n",
    "\n",
    "y_test = useful_test\n",
    "\n",
    "X_train = dtm\n",
    "\n",
    "X_test = dtm_test"
   ]
  },
  {
   "cell_type": "code",
   "execution_count": 122,
   "id": "614dd398",
   "metadata": {},
   "outputs": [],
   "source": [
    "X_cv = X_train[0:1000]\n",
    "y_cv = y_train[0:1000]"
   ]
  },
  {
   "cell_type": "code",
   "execution_count": 88,
   "id": "59f88428",
   "metadata": {},
   "outputs": [],
   "source": [
    "import numpy as np\n",
    "def ACC(y_pred,y_test):\n",
    "    cm = confusion_matrix(y_test, y_pred)\n",
    "    ACC = (cm[1][1] + cm[0][0]) / (sum(cm)[0]+sum(cm)[1])\n",
    "    return ACC\n",
    "\n",
    "def TPR(y_pred,y_test):\n",
    "    cm = confusion_matrix(y_test, y_pred)\n",
    "    TPR = (cm[1][1] ) / (np.sum(cm,axis=1)[1])\n",
    "    return TPR\n",
    "\n",
    "def FPR(y_pred, y_test):\n",
    "    cm = confusion_matrix(y_test, y_pred)\n",
    "    TPR = (cm[0][1] ) / (np.sum(cm,axis=1)[0])\n",
    "    return TPR"
   ]
  },
  {
   "cell_type": "code",
   "execution_count": 123,
   "id": "50872afb",
   "metadata": {},
   "outputs": [],
   "source": [
    "import numpy as np\n",
    "from sklearn.model_selection import GridSearchCV\n",
    "from sklearn.tree import DecisionTreeClassifier\n",
    "\n",
    "grid_values = {'ccp_alpha': np.linspace(0, 0.01, 11)}\n",
    "\n",
    "dtc = DecisionTreeClassifier(random_state=88)\n",
    "dtc_cv = GridSearchCV(dtc, param_grid=grid_values, cv=5).fit(X_cv, y_cv)"
   ]
  },
  {
   "cell_type": "code",
   "execution_count": 124,
   "id": "3f0c7859",
   "metadata": {},
   "outputs": [
    {
     "data": {
      "image/png": "[encoded data removed]",
      "text/plain": [
       "<Figure size 576x432 with 1 Axes>"
      ]
     },
     "metadata": {
      "needs_background": "light"
     },
     "output_type": "display_data"
    },
    {
     "name": "stdout",
     "output_type": "stream",
     "text": [
      "Best ccp_alpha {'ccp_alpha': 0.006}\n"
     ]
    }
   ],
   "source": [
    "import matplotlib.pyplot as plt\n",
    "ccp_alpha = dtc_cv.cv_results_['param_ccp_alpha'].data\n",
    "ACC_scores = dtc_cv.cv_results_['mean_test_score']\n",
    "\n",
    "plt.figure(figsize=(8, 6))\n",
    "plt.xlabel('ccp_alpha', fontsize=16)\n",
    "plt.ylabel('CV Accuracy', fontsize=16)\n",
    "plt.scatter(ccp_alpha, ACC_scores, s=3)\n",
    "plt.plot(ccp_alpha, ACC_scores, linewidth=3)\n",
    "plt.grid(True, which='both')\n",
    "\n",
    "plt.tight_layout()\n",
    "plt.show()\n",
    "\n",
    "print('Best ccp_alpha', dtc_cv.best_params_)"
   ]
  },
  {
   "cell_type": "code",
   "execution_count": 125,
   "id": "ced47c33",
   "metadata": {},
   "outputs": [
    {
     "name": "stdout",
     "output_type": "stream",
     "text": [
      "Node count = 5\n"
     ]
    },
    {
     "data": {
      "image/png": "[encoded data removed]",
      "text/plain": [
       "<Figure size 432x432 with 1 Axes>"
      ]
     },
     "metadata": {
      "needs_background": "light"
     },
     "output_type": "display_data"
    }
   ],
   "source": [
    "from sklearn.tree import plot_tree\n",
    "\n",
    "print('Node count =', dtc_cv.best_estimator_.tree_.node_count)\n",
    "plt.figure(figsize=(6,6))\n",
    "plot_tree(dtc_cv.best_estimator_, \n",
    "          feature_names=X_train.columns, \n",
    "          class_names=['0','1'], \n",
    "          filled=True,\n",
    "          impurity=False,\n",
    "          fontsize=12,\n",
    "          max_depth = 4) \n",
    "plt.show()"
   ]
  },
  {
   "cell_type": "code",
   "execution_count": 126,
   "id": "3d1f5377",
   "metadata": {},
   "outputs": [
    {
     "name": "stdout",
     "output_type": "stream",
     "text": [
      "Confusion Matrix: \n",
      " [[4121  105]\n",
      " [3914  109]]\n",
      "\n",
      "Accuracy: 0.5127894290216995\n"
     ]
    }
   ],
   "source": [
    "from sklearn.metrics import confusion_matrix\n",
    "from sklearn.metrics import accuracy_score\n",
    "\n",
    "y_pred = dtc_cv.predict(X_test)\n",
    "cm = confusion_matrix(y_test, y_pred)\n",
    "print (\"Confusion Matrix: \\n\", cm)\n",
    "print (\"\\nAccuracy:\", accuracy_score(y_test, y_pred))"
   ]
  },
  {
   "cell_type": "code",
   "execution_count": 127,
   "id": "cca4c243",
   "metadata": {},
   "outputs": [
    {
     "data": {
      "text/plain": [
       "0.027094208302261995"
      ]
     },
     "execution_count": 127,
     "metadata": {},
     "output_type": "execute_result"
    }
   ],
   "source": [
    "TPR(y_pred,y_test)"
   ]
  },
  {
   "cell_type": "code",
   "execution_count": 128,
   "id": "4605f546",
   "metadata": {},
   "outputs": [
    {
     "data": {
      "text/plain": [
       "0.024846190250828206"
      ]
     },
     "execution_count": 128,
     "metadata": {},
     "output_type": "execute_result"
    }
   ],
   "source": [
    "FPR(y_pred, y_test)"
   ]
  },
  {
   "cell_type": "markdown",
   "id": "81c9e6e9",
   "metadata": {},
   "source": [
    "### Logistic Model"
   ]
  },
  {
   "cell_type": "code",
   "execution_count": 73,
   "id": "cdd80fd1",
   "metadata": {},
   "outputs": [],
   "source": [
    "from sklearn.linear_model import LogisticRegression\n",
    "\n",
    "logreg = LogisticRegression(random_state=88,solver='lbfgs',max_iter = 3000)\n",
    "logreg = logreg.fit(X_train,y_train)"
   ]
  },
  {
   "cell_type": "code",
   "execution_count": 74,
   "id": "1d5df9a6",
   "metadata": {},
   "outputs": [
    {
     "name": "stdout",
     "output_type": "stream",
     "text": [
      "Confusion Matrix: \n",
      " [[ 995 3231]\n",
      " [ 906 3117]]\n",
      "\n",
      "Accuracy: 0.49848466480785547\n"
     ]
    }
   ],
   "source": [
    "y_prob = logreg.predict_proba(X_test)\n",
    "y_pred_log = pd.Series([1 if x > 0.5 else 0 for x in y_prob[:,1]], index=y_test.index)\n",
    "\n",
    "cm_log = confusion_matrix(y_test, y_pred_log)\n",
    "print (\"Confusion Matrix: \\n\", cm_log)\n",
    "print (\"\\nAccuracy:\", accuracy_score(y_test, y_pred_log))"
   ]
  },
  {
   "cell_type": "code",
   "execution_count": 75,
   "id": "811dcdde",
   "metadata": {},
   "outputs": [
    {
     "data": {
      "text/plain": [
       "0.7747949291573453"
      ]
     },
     "execution_count": 75,
     "metadata": {},
     "output_type": "execute_result"
    }
   ],
   "source": [
    "TPR(y_pred_log,y_test)"
   ]
  },
  {
   "cell_type": "code",
   "execution_count": 76,
   "id": "94c282a5",
   "metadata": {},
   "outputs": [
    {
     "data": {
      "text/plain": [
       "0.764552768575485"
      ]
     },
     "execution_count": 76,
     "metadata": {},
     "output_type": "execute_result"
    }
   ],
   "source": [
    "FPR(y_pred_log, y_test)"
   ]
  },
  {
   "cell_type": "markdown",
   "id": "281ee569",
   "metadata": {},
   "source": [
    "### Random Forest Model"
   ]
  },
  {
   "cell_type": "code",
   "execution_count": null,
   "id": "7745b050",
   "metadata": {},
   "outputs": [],
   "source": [
    "from sklearn.ensemble import RandomForestClassifier"
   ]
  },
  {
   "cell_type": "code",
   "execution_count": 79,
   "id": "da1c0eea",
   "metadata": {},
   "outputs": [
    {
     "data": {
      "text/plain": [
       "RandomForestClassifier(max_features=25, min_samples_leaf=5, n_estimators=500,\n",
       "                       random_state=88)"
      ]
     },
     "execution_count": 79,
     "metadata": {},
     "output_type": "execute_result"
    }
   ],
   "source": [
    "rf_model = RandomForestClassifier(max_features=25, min_samples_leaf=5, n_estimators=500, random_state=88)\n",
    "rf_model.fit(X_train, y_train)"
   ]
  },
  {
   "cell_type": "code",
   "execution_count": 80,
   "id": "0a444339",
   "metadata": {},
   "outputs": [
    {
     "name": "stdout",
     "output_type": "stream",
     "text": [
      "Confusion Matrix: \n",
      " [[ 906 3320]\n",
      " [ 782 3241]]\n",
      "\n",
      "Accuracy: 0.5027276033458601\n"
     ]
    }
   ],
   "source": [
    "y_pred_rf = rf_model.predict(X_test)\n",
    "cm_rf = confusion_matrix(y_test, y_pred_rf)\n",
    "print (\"Confusion Matrix: \\n\", cm_rf)\n",
    "print (\"\\nAccuracy:\", accuracy_score(y_test, y_pred_rf))"
   ]
  },
  {
   "cell_type": "code",
   "execution_count": 81,
   "id": "9b4df0db",
   "metadata": {},
   "outputs": [
    {
     "data": {
      "text/plain": [
       "0.805617698235148"
      ]
     },
     "execution_count": 81,
     "metadata": {},
     "output_type": "execute_result"
    }
   ],
   "source": [
    "TPR(y_pred_rf,y_test)"
   ]
  },
  {
   "cell_type": "code",
   "execution_count": 82,
   "id": "0b607ae4",
   "metadata": {},
   "outputs": [
    {
     "data": {
      "text/plain": [
       "0.7856128726928537"
      ]
     },
     "execution_count": 82,
     "metadata": {},
     "output_type": "execute_result"
    }
   ],
   "source": [
    "FPR(y_pred_rf,y_test)"
   ]
  },
  {
   "cell_type": "markdown",
   "id": "f51caae1",
   "metadata": {},
   "source": [
    "### Linear Discriminant Analysis"
   ]
  },
  {
   "cell_type": "code",
   "execution_count": 83,
   "id": "b70b271c",
   "metadata": {},
   "outputs": [
    {
     "data": {
      "text/plain": [
       "LinearDiscriminantAnalysis()"
      ]
     },
     "execution_count": 83,
     "metadata": {},
     "output_type": "execute_result"
    }
   ],
   "source": [
    "from sklearn.discriminant_analysis import LinearDiscriminantAnalysis\n",
    "\n",
    "lda = LinearDiscriminantAnalysis()\n",
    "lda.fit(X_train, y_train)"
   ]
  },
  {
   "cell_type": "code",
   "execution_count": 84,
   "id": "4941698a",
   "metadata": {},
   "outputs": [
    {
     "name": "stdout",
     "output_type": "stream",
     "text": [
      "Confusion Matrix: \n",
      " [[ 993 3233]\n",
      " [ 885 3138]]\n",
      "\n",
      "Accuracy: 0.5007879742999152\n"
     ]
    }
   ],
   "source": [
    "y_pred_lda = lda.predict(X_test)\n",
    "cm_lda = confusion_matrix(y_test, y_pred_lda)\n",
    "print (\"Confusion Matrix: \\n\", cm_lda)\n",
    "print (\"\\nAccuracy:\", accuracy_score(y_test, y_pred_lda))"
   ]
  },
  {
   "cell_type": "code",
   "execution_count": 85,
   "id": "606bd800",
   "metadata": {},
   "outputs": [
    {
     "data": {
      "text/plain": [
       "0.7800149142431022"
      ]
     },
     "execution_count": 85,
     "metadata": {},
     "output_type": "execute_result"
    }
   ],
   "source": [
    "TPR(y_pred_lda,y_test)"
   ]
  },
  {
   "cell_type": "code",
   "execution_count": 86,
   "id": "7a602682",
   "metadata": {},
   "outputs": [
    {
     "data": {
      "text/plain": [
       "0.7650260293421676"
      ]
     },
     "execution_count": 86,
     "metadata": {},
     "output_type": "execute_result"
    }
   ],
   "source": [
    "FPR(y_pred_lda,y_test)"
   ]
  },
  {
   "cell_type": "code",
   "execution_count": 129,
   "id": "b20db085",
   "metadata": {},
   "outputs": [],
   "source": [
    "def bootstrap_validation(test_data, test_label, train_label, model, metrics_list, sample=500, random_state=66):\n",
    "    n_sample = sample\n",
    "    n_metrics = len(metrics_list)\n",
    "    output_array=np.zeros([n_sample, n_metrics])\n",
    "    output_array[:]=np.nan\n",
    "    print(output_array.shape)\n",
    "    for bs_iter in range(n_sample):\n",
    "        bs_index = np.random.choice(test_data.index, len(test_data.index), replace=True)\n",
    "        bs_data = test_data.loc[bs_index]\n",
    "        bs_label = test_label.loc[bs_index]\n",
    "        bs_predicted = model.predict(bs_data)\n",
    "        for metrics_iter in range(n_metrics):\n",
    "            metrics = metrics_list[metrics_iter]\n",
    "            output_array[bs_iter, metrics_iter]=metrics(bs_predicted,bs_label)\n",
    "    output_df = pd.DataFrame(output_array)\n",
    "    return output_df"
   ]
  },
  {
   "cell_type": "code",
   "execution_count": 130,
   "id": "6c91f144",
   "metadata": {},
   "outputs": [
    {
     "name": "stdout",
     "output_type": "stream",
     "text": [
      "(5000, 3)\n"
     ]
    }
   ],
   "source": [
    "bs_cart = bootstrap_validation(X_test,y_test,y_train,dtc_cv,\n",
    "                                 metrics_list=[ACC, TPR, FPR],\n",
    "                                 sample = 5000);"
   ]
  },
  {
   "cell_type": "code",
   "execution_count": 131,
   "id": "22f8ae08",
   "metadata": {},
   "outputs": [
    {
     "data": {
      "text/html": [
       "<div>\n",
       "<style scoped>\n",
       "    .dataframe tbody tr th:only-of-type {\n",
       "        vertical-align: middle;\n",
       "    }\n",
       "\n",
       "    .dataframe tbody tr th {\n",
       "        vertical-align: top;\n",
       "    }\n",
       "\n",
       "    .dataframe thead th {\n",
       "        text-align: right;\n",
       "    }\n",
       "</style>\n",
       "<table border=\"1\" class=\"dataframe\">\n",
       "  <thead>\n",
       "    <tr style=\"text-align: right;\">\n",
       "      <th></th>\n",
       "      <th>Metrics after boostrap</th>\n",
       "    </tr>\n",
       "  </thead>\n",
       "  <tbody>\n",
       "    <tr>\n",
       "      <th>Accuracy</th>\n",
       "      <td>0.512759</td>\n",
       "    </tr>\n",
       "    <tr>\n",
       "      <th>TPR</th>\n",
       "      <td>0.027077</td>\n",
       "    </tr>\n",
       "    <tr>\n",
       "      <th>FPR</th>\n",
       "      <td>0.024835</td>\n",
       "    </tr>\n",
       "  </tbody>\n",
       "</table>\n",
       "</div>"
      ],
      "text/plain": [
       "          Metrics after boostrap\n",
       "Accuracy                0.512759\n",
       "TPR                     0.027077\n",
       "FPR                     0.024835"
      ]
     },
     "execution_count": 131,
     "metadata": {},
     "output_type": "execute_result"
    }
   ],
   "source": [
    "from statistics import mean\n",
    "mean_acc = mean(bs_cart[0])\n",
    "mean_tpr = mean(bs_cart[1])\n",
    "mean_fpr = mean(bs_cart[2])\n",
    "\n",
    "metric_bs = [mean_acc,mean_tpr,mean_fpr]\n",
    "table_bs = pd.DataFrame(metric_bs, columns = ['Metrics after boostrap'], index = ['Accuracy','TPR', 'FPR'] )\n",
    "table_bs"
   ]
  },
  {
   "cell_type": "code",
   "execution_count": 138,
   "id": "b9116924",
   "metadata": {},
   "outputs": [
    {
     "data": {
      "text/plain": [
       "array([0.50200024, 0.52345739])"
      ]
     },
     "execution_count": 138,
     "metadata": {},
     "output_type": "execute_result"
    }
   ],
   "source": [
    "CI_acc= np.quantile(bs_cart.iloc[:,0] ,np.array([0.025,0.975]))\n",
    "CI_acc"
   ]
  },
  {
   "cell_type": "code",
   "execution_count": 139,
   "id": "1047ae60",
   "metadata": {},
   "outputs": [
    {
     "data": {
      "text/plain": [
       "array([0.02217398, 0.03230617])"
      ]
     },
     "execution_count": 139,
     "metadata": {},
     "output_type": "execute_result"
    }
   ],
   "source": [
    "CI_tpr = np.quantile(bs_cart.iloc[:,1] ,np.array([0.025,0.975]))\n",
    "CI_tpr"
   ]
  },
  {
   "cell_type": "code",
   "execution_count": 140,
   "id": "6daf3640",
   "metadata": {},
   "outputs": [
    {
     "data": {
      "text/plain": [
       "array([0.02017825, 0.02969592])"
      ]
     },
     "execution_count": 140,
     "metadata": {},
     "output_type": "execute_result"
    }
   ],
   "source": [
    "CI_fpr = np.quantile(bs_cart.iloc[:,2] ,np.array([0.025,0.975]))\n",
    "CI_fpr"
   ]
  },
  {
   "cell_type": "markdown",
   "id": "4cee4a16",
   "metadata": {},
   "source": [
    "## (c.)"
   ]
  },
  {
   "cell_type": "markdown",
   "id": "026c361d",
   "metadata": {},
   "source": [
    "### (i.)"
   ]
  },
  {
   "cell_type": "markdown",
   "id": "8f525cc8",
   "metadata": {},
   "source": [
    "I will choose the model with the highest TPR rate and lowest FPR rate. The TPR rate is the probability that given a useful question, it is classfied as useful. The higher the value of TPR, the less likely the classification of posted questions returns false-positive results. However, for accuracy, it only measures the proportion of useful questions, which is not desired in this situation since we want to maximize the probability that the top question is useful. "
   ]
  },
  {
   "cell_type": "markdown",
   "id": "29634daf",
   "metadata": {},
   "source": [
    "### (ii.)"
   ]
  },
  {
   "cell_type": "markdown",
   "id": "e41ed897",
   "metadata": {},
   "source": [
    "Since we want the model with the highest TPR rate, we cannot use the CART model we chose in the previous question. Instead, we can choose the random forest model and modify its class_weight to get a higher TPR rate. The new model now has a TPR rate of 0.966, which means that there is a probability of 96.6% that a useful question posted to Stack Exchange will be categorized as useful. This value is much higher than our previous CART model which has a TPR rate of only 0.02."
   ]
  },
  {
   "cell_type": "code",
   "execution_count": 157,
   "id": "069ccaf8",
   "metadata": {},
   "outputs": [
    {
     "name": "stdout",
     "output_type": "stream",
     "text": [
      "Confusion Matrix: \n",
      " [[ 191 4035]\n",
      " [ 136 3887]]\n"
     ]
    }
   ],
   "source": [
    "from sklearn.ensemble import RandomForestClassifier\n",
    "\n",
    "rf_b=RandomForestClassifier(max_features=25,min_samples_leaf=3,random_state=88,class_weight = {0: 1, 1: 2})\n",
    "rf_b.fit(X_train, y_train)\n",
    "\n",
    "y_pred_b = rf_b.predict(X_test)\n",
    "cm_b = confusion_matrix(y_test, y_pred_b)\n",
    "print (\"Confusion Matrix: \\n\", cm_b)"
   ]
  },
  {
   "cell_type": "code",
   "execution_count": 158,
   "id": "60197114",
   "metadata": {},
   "outputs": [
    {
     "data": {
      "text/plain": [
       "0.9661943823017648"
      ]
     },
     "execution_count": 158,
     "metadata": {},
     "output_type": "execute_result"
    }
   ],
   "source": [
    "TPR(y_pred_b,y_test)"
   ]
  },
  {
   "cell_type": "code",
   "execution_count": 159,
   "id": "1486aee3",
   "metadata": {},
   "outputs": [
    {
     "data": {
      "text/plain": [
       "0.9548035967818268"
      ]
     },
     "execution_count": 159,
     "metadata": {},
     "output_type": "execute_result"
    }
   ],
   "source": [
    "FPR(y_pred_b,y_test)"
   ]
  },
  {
   "cell_type": "code",
   "execution_count": null,
   "id": "08baca76",
   "metadata": {},
   "outputs": [],
   "source": []
  }
 ],
 "metadata": {
  "kernelspec": {
   "display_name": "Python 3 (ipykernel)",
   "language": "python",
   "name": "python3"
  },
  "language_info": {
   "codemirror_mode": {
    "name": "ipython",
    "version": 3
   },
   "file_extension": ".py",
   "mimetype": "text/x-python",
   "name": "python",
   "nbconvert_exporter": "python",
   "pygments_lexer": "ipython3",
   "version": "3.8.3"
  }
 },
 "nbformat": 4,
 "nbformat_minor": 5
}
