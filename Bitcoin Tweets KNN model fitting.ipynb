{
 "cells": [
  {
   "cell_type": "markdown",
   "id": "aef380c1",
   "metadata": {},
   "source": [
    "## KNN"
   ]
  },
  {
   "cell_type": "markdown",
   "id": "6ab90b87",
   "metadata": {},
   "source": [
    "Data cleaning"
   ]
  },
  {
   "cell_type": "code",
   "execution_count": 32,
   "id": "967e6a96",
   "metadata": {},
   "outputs": [],
   "source": [
    "import numpy as np\n",
    "import pandas as pd\n",
    "import matplotlib.pyplot as plt"
   ]
  },
  {
   "cell_type": "code",
   "execution_count": 33,
   "id": "b00d506d",
   "metadata": {},
   "outputs": [],
   "source": [
    "tweets_train = pd.read_csv(\"tweets_train.csv\")\n",
    "tweets_test = pd.read_csv(\"tweets_test.csv\")"
   ]
  },
  {
   "cell_type": "code",
   "execution_count": 35,
   "id": "fa54a6a0",
   "metadata": {},
   "outputs": [],
   "source": [
    "X_train = tweets_train.drop(columns = 'Unnamed: 0')\n",
    "X_test = tweets_test.drop(columns = 'Unnamed: 0')"
   ]
  },
  {
   "cell_type": "code",
   "execution_count": 31,
   "id": "fcb22f36",
   "metadata": {},
   "outputs": [],
   "source": [
    "tweets_train_raw = pd.read_csv(\"tweets_train(tokenize).csv\")\n",
    "y_train = tweets_train_raw['Tag']\n",
    "tweets_test_raw = pd.read_csv(\"tweets_test(tokenize).csv\")\n",
    "y_test = tweets_test_raw['Tag']"
   ]
  },
  {
   "cell_type": "code",
   "execution_count": 40,
   "id": "70ab655f",
   "metadata": {},
   "outputs": [],
   "source": [
    "tweets_train = X_train.copy()\n",
    "tweets_test = X_test.copy()\n",
    "tweets_train['Tag'] = y_train\n",
    "tweets_test['Tag'] = y_test"
   ]
  },
  {
   "cell_type": "code",
   "execution_count": 43,
   "id": "aad0766b",
   "metadata": {},
   "outputs": [],
   "source": [
    "tweets_train = tweets_train.replace(['Positive','Negative','Neutral'],[1,-1,0])\n",
    "tweets_test = tweets_test.replace(['Positive','Negative','Neutral'],[1,-1,0])"
   ]
  },
  {
   "cell_type": "code",
   "execution_count": 144,
   "id": "99fe3740",
   "metadata": {},
   "outputs": [],
   "source": [
    "y_train = tweets_train['Tag']\n",
    "y_test = tweets_test['Tag']"
   ]
  },
  {
   "cell_type": "code",
   "execution_count": 51,
   "id": "0cd595cf",
   "metadata": {},
   "outputs": [
    {
     "data": {
      "text/html": [
       "<div>\n",
       "<style scoped>\n",
       "    .dataframe tbody tr th:only-of-type {\n",
       "        vertical-align: middle;\n",
       "    }\n",
       "\n",
       "    .dataframe tbody tr th {\n",
       "        vertical-align: top;\n",
       "    }\n",
       "\n",
       "    .dataframe thead th {\n",
       "        text-align: right;\n",
       "    }\n",
       "</style>\n",
       "<table border=\"1\" class=\"dataframe\">\n",
       "  <thead>\n",
       "    <tr style=\"text-align: right;\">\n",
       "      <th></th>\n",
       "      <th>accept</th>\n",
       "      <th>accord</th>\n",
       "      <th>account</th>\n",
       "      <th>accumul</th>\n",
       "      <th>across</th>\n",
       "      <th>action</th>\n",
       "      <th>activ</th>\n",
       "      <th>actual</th>\n",
       "      <th>ada</th>\n",
       "      <th>address</th>\n",
       "      <th>...</th>\n",
       "      <th>work</th>\n",
       "      <th>world</th>\n",
       "      <th>worth</th>\n",
       "      <th>would</th>\n",
       "      <th>xrp</th>\n",
       "      <th>year</th>\n",
       "      <th>yet</th>\n",
       "      <th>your</th>\n",
       "      <th>youtub</th>\n",
       "      <th>Tag</th>\n",
       "    </tr>\n",
       "  </thead>\n",
       "  <tbody>\n",
       "    <tr>\n",
       "      <th>count</th>\n",
       "      <td>1.201800e+04</td>\n",
       "      <td>1.201800e+04</td>\n",
       "      <td>1.201800e+04</td>\n",
       "      <td>1.201800e+04</td>\n",
       "      <td>1.201800e+04</td>\n",
       "      <td>1.201800e+04</td>\n",
       "      <td>1.201800e+04</td>\n",
       "      <td>1.201800e+04</td>\n",
       "      <td>1.201800e+04</td>\n",
       "      <td>1.201800e+04</td>\n",
       "      <td>...</td>\n",
       "      <td>1.201800e+04</td>\n",
       "      <td>1.201800e+04</td>\n",
       "      <td>1.201800e+04</td>\n",
       "      <td>1.201800e+04</td>\n",
       "      <td>1.201800e+04</td>\n",
       "      <td>1.201800e+04</td>\n",
       "      <td>1.201800e+04</td>\n",
       "      <td>1.201800e+04</td>\n",
       "      <td>1.201800e+04</td>\n",
       "      <td>1.201800e+04</td>\n",
       "    </tr>\n",
       "    <tr>\n",
       "      <th>mean</th>\n",
       "      <td>-2.795535e-16</td>\n",
       "      <td>-4.724199e-16</td>\n",
       "      <td>2.767128e-16</td>\n",
       "      <td>5.709662e-16</td>\n",
       "      <td>5.358018e-16</td>\n",
       "      <td>-1.899333e-16</td>\n",
       "      <td>4.343270e-16</td>\n",
       "      <td>7.251254e-16</td>\n",
       "      <td>2.734254e-15</td>\n",
       "      <td>-6.867184e-16</td>\n",
       "      <td>...</td>\n",
       "      <td>7.956483e-16</td>\n",
       "      <td>-3.198196e-17</td>\n",
       "      <td>-6.118213e-16</td>\n",
       "      <td>5.695228e-17</td>\n",
       "      <td>1.539171e-15</td>\n",
       "      <td>7.147904e-17</td>\n",
       "      <td>4.725931e-17</td>\n",
       "      <td>7.166380e-18</td>\n",
       "      <td>8.100157e-16</td>\n",
       "      <td>7.876505e-16</td>\n",
       "    </tr>\n",
       "    <tr>\n",
       "      <th>std</th>\n",
       "      <td>1.000042e+00</td>\n",
       "      <td>1.000042e+00</td>\n",
       "      <td>1.000042e+00</td>\n",
       "      <td>1.000042e+00</td>\n",
       "      <td>1.000042e+00</td>\n",
       "      <td>1.000042e+00</td>\n",
       "      <td>1.000042e+00</td>\n",
       "      <td>1.000042e+00</td>\n",
       "      <td>1.000042e+00</td>\n",
       "      <td>1.000042e+00</td>\n",
       "      <td>...</td>\n",
       "      <td>1.000042e+00</td>\n",
       "      <td>1.000042e+00</td>\n",
       "      <td>1.000042e+00</td>\n",
       "      <td>1.000042e+00</td>\n",
       "      <td>1.000042e+00</td>\n",
       "      <td>1.000042e+00</td>\n",
       "      <td>1.000042e+00</td>\n",
       "      <td>1.000042e+00</td>\n",
       "      <td>1.000042e+00</td>\n",
       "      <td>1.000042e+00</td>\n",
       "    </tr>\n",
       "    <tr>\n",
       "      <th>min</th>\n",
       "      <td>-1.168134e-01</td>\n",
       "      <td>-7.201167e-02</td>\n",
       "      <td>-8.101781e-02</td>\n",
       "      <td>-7.100012e-02</td>\n",
       "      <td>-7.873944e-02</td>\n",
       "      <td>-8.398445e-02</td>\n",
       "      <td>-9.528744e-02</td>\n",
       "      <td>-7.487473e-02</td>\n",
       "      <td>-8.813763e-02</td>\n",
       "      <td>-7.146179e-02</td>\n",
       "      <td>...</td>\n",
       "      <td>-9.642120e-02</td>\n",
       "      <td>-1.399184e-01</td>\n",
       "      <td>-1.154974e-01</td>\n",
       "      <td>-1.606882e-01</td>\n",
       "      <td>-8.740436e-02</td>\n",
       "      <td>-1.775351e-01</td>\n",
       "      <td>-8.590712e-02</td>\n",
       "      <td>-7.897088e-02</td>\n",
       "      <td>-7.431076e-02</td>\n",
       "      <td>-1.256240e+00</td>\n",
       "    </tr>\n",
       "    <tr>\n",
       "      <th>25%</th>\n",
       "      <td>-1.168134e-01</td>\n",
       "      <td>-7.201167e-02</td>\n",
       "      <td>-8.101781e-02</td>\n",
       "      <td>-7.100012e-02</td>\n",
       "      <td>-7.873944e-02</td>\n",
       "      <td>-8.398445e-02</td>\n",
       "      <td>-9.528744e-02</td>\n",
       "      <td>-7.487473e-02</td>\n",
       "      <td>-8.813763e-02</td>\n",
       "      <td>-7.146179e-02</td>\n",
       "      <td>...</td>\n",
       "      <td>-9.642120e-02</td>\n",
       "      <td>-1.399184e-01</td>\n",
       "      <td>-1.154974e-01</td>\n",
       "      <td>-1.606882e-01</td>\n",
       "      <td>-8.740436e-02</td>\n",
       "      <td>-1.775351e-01</td>\n",
       "      <td>-8.590712e-02</td>\n",
       "      <td>-7.897088e-02</td>\n",
       "      <td>-7.431076e-02</td>\n",
       "      <td>-1.256240e+00</td>\n",
       "    </tr>\n",
       "    <tr>\n",
       "      <th>50%</th>\n",
       "      <td>-1.168134e-01</td>\n",
       "      <td>-7.201167e-02</td>\n",
       "      <td>-8.101781e-02</td>\n",
       "      <td>-7.100012e-02</td>\n",
       "      <td>-7.873944e-02</td>\n",
       "      <td>-8.398445e-02</td>\n",
       "      <td>-9.528744e-02</td>\n",
       "      <td>-7.487473e-02</td>\n",
       "      <td>-8.813763e-02</td>\n",
       "      <td>-7.146179e-02</td>\n",
       "      <td>...</td>\n",
       "      <td>-9.642120e-02</td>\n",
       "      <td>-1.399184e-01</td>\n",
       "      <td>-1.154974e-01</td>\n",
       "      <td>-1.606882e-01</td>\n",
       "      <td>-8.740436e-02</td>\n",
       "      <td>-1.775351e-01</td>\n",
       "      <td>-8.590712e-02</td>\n",
       "      <td>-7.897088e-02</td>\n",
       "      <td>-7.431076e-02</td>\n",
       "      <td>-1.376587e-01</td>\n",
       "    </tr>\n",
       "    <tr>\n",
       "      <th>75%</th>\n",
       "      <td>-1.168134e-01</td>\n",
       "      <td>-7.201167e-02</td>\n",
       "      <td>-8.101781e-02</td>\n",
       "      <td>-7.100012e-02</td>\n",
       "      <td>-7.873944e-02</td>\n",
       "      <td>-8.398445e-02</td>\n",
       "      <td>-9.528744e-02</td>\n",
       "      <td>-7.487473e-02</td>\n",
       "      <td>-8.813763e-02</td>\n",
       "      <td>-7.146179e-02</td>\n",
       "      <td>...</td>\n",
       "      <td>-9.642120e-02</td>\n",
       "      <td>-1.399184e-01</td>\n",
       "      <td>-1.154974e-01</td>\n",
       "      <td>-1.606882e-01</td>\n",
       "      <td>-8.740436e-02</td>\n",
       "      <td>-1.775351e-01</td>\n",
       "      <td>-8.590712e-02</td>\n",
       "      <td>-7.897088e-02</td>\n",
       "      <td>-7.431076e-02</td>\n",
       "      <td>9.809230e-01</td>\n",
       "    </tr>\n",
       "    <tr>\n",
       "      <th>max</th>\n",
       "      <td>2.289735e+01</td>\n",
       "      <td>1.388664e+01</td>\n",
       "      <td>2.108577e+01</td>\n",
       "      <td>3.548231e+01</td>\n",
       "      <td>2.482364e+01</td>\n",
       "      <td>2.285522e+01</td>\n",
       "      <td>2.035408e+01</td>\n",
       "      <td>1.335564e+01</td>\n",
       "      <td>3.808260e+01</td>\n",
       "      <td>2.719291e+01</td>\n",
       "      <td>...</td>\n",
       "      <td>2.706272e+01</td>\n",
       "      <td>1.299710e+01</td>\n",
       "      <td>2.251572e+01</td>\n",
       "      <td>1.575539e+01</td>\n",
       "      <td>1.992070e+01</td>\n",
       "      <td>1.524620e+01</td>\n",
       "      <td>2.285702e+01</td>\n",
       "      <td>3.341769e+01</td>\n",
       "      <td>1.345700e+01</td>\n",
       "      <td>9.809230e-01</td>\n",
       "    </tr>\n",
       "  </tbody>\n",
       "</table>\n",
       "<p>8 rows × 429 columns</p>\n",
       "</div>"
      ],
      "text/plain": [
       "             accept        accord       account       accumul        across  \\\n",
       "count  1.201800e+04  1.201800e+04  1.201800e+04  1.201800e+04  1.201800e+04   \n",
       "mean  -2.795535e-16 -4.724199e-16  2.767128e-16  5.709662e-16  5.358018e-16   \n",
       "std    1.000042e+00  1.000042e+00  1.000042e+00  1.000042e+00  1.000042e+00   \n",
       "min   -1.168134e-01 -7.201167e-02 -8.101781e-02 -7.100012e-02 -7.873944e-02   \n",
       "25%   -1.168134e-01 -7.201167e-02 -8.101781e-02 -7.100012e-02 -7.873944e-02   \n",
       "50%   -1.168134e-01 -7.201167e-02 -8.101781e-02 -7.100012e-02 -7.873944e-02   \n",
       "75%   -1.168134e-01 -7.201167e-02 -8.101781e-02 -7.100012e-02 -7.873944e-02   \n",
       "max    2.289735e+01  1.388664e+01  2.108577e+01  3.548231e+01  2.482364e+01   \n",
       "\n",
       "             action         activ        actual           ada       address  \\\n",
       "count  1.201800e+04  1.201800e+04  1.201800e+04  1.201800e+04  1.201800e+04   \n",
       "mean  -1.899333e-16  4.343270e-16  7.251254e-16  2.734254e-15 -6.867184e-16   \n",
       "std    1.000042e+00  1.000042e+00  1.000042e+00  1.000042e+00  1.000042e+00   \n",
       "min   -8.398445e-02 -9.528744e-02 -7.487473e-02 -8.813763e-02 -7.146179e-02   \n",
       "25%   -8.398445e-02 -9.528744e-02 -7.487473e-02 -8.813763e-02 -7.146179e-02   \n",
       "50%   -8.398445e-02 -9.528744e-02 -7.487473e-02 -8.813763e-02 -7.146179e-02   \n",
       "75%   -8.398445e-02 -9.528744e-02 -7.487473e-02 -8.813763e-02 -7.146179e-02   \n",
       "max    2.285522e+01  2.035408e+01  1.335564e+01  3.808260e+01  2.719291e+01   \n",
       "\n",
       "       ...          work         world         worth         would  \\\n",
       "count  ...  1.201800e+04  1.201800e+04  1.201800e+04  1.201800e+04   \n",
       "mean   ...  7.956483e-16 -3.198196e-17 -6.118213e-16  5.695228e-17   \n",
       "std    ...  1.000042e+00  1.000042e+00  1.000042e+00  1.000042e+00   \n",
       "min    ... -9.642120e-02 -1.399184e-01 -1.154974e-01 -1.606882e-01   \n",
       "25%    ... -9.642120e-02 -1.399184e-01 -1.154974e-01 -1.606882e-01   \n",
       "50%    ... -9.642120e-02 -1.399184e-01 -1.154974e-01 -1.606882e-01   \n",
       "75%    ... -9.642120e-02 -1.399184e-01 -1.154974e-01 -1.606882e-01   \n",
       "max    ...  2.706272e+01  1.299710e+01  2.251572e+01  1.575539e+01   \n",
       "\n",
       "                xrp          year           yet          your        youtub  \\\n",
       "count  1.201800e+04  1.201800e+04  1.201800e+04  1.201800e+04  1.201800e+04   \n",
       "mean   1.539171e-15  7.147904e-17  4.725931e-17  7.166380e-18  8.100157e-16   \n",
       "std    1.000042e+00  1.000042e+00  1.000042e+00  1.000042e+00  1.000042e+00   \n",
       "min   -8.740436e-02 -1.775351e-01 -8.590712e-02 -7.897088e-02 -7.431076e-02   \n",
       "25%   -8.740436e-02 -1.775351e-01 -8.590712e-02 -7.897088e-02 -7.431076e-02   \n",
       "50%   -8.740436e-02 -1.775351e-01 -8.590712e-02 -7.897088e-02 -7.431076e-02   \n",
       "75%   -8.740436e-02 -1.775351e-01 -8.590712e-02 -7.897088e-02 -7.431076e-02   \n",
       "max    1.992070e+01  1.524620e+01  2.285702e+01  3.341769e+01  1.345700e+01   \n",
       "\n",
       "                Tag  \n",
       "count  1.201800e+04  \n",
       "mean   7.876505e-16  \n",
       "std    1.000042e+00  \n",
       "min   -1.256240e+00  \n",
       "25%   -1.256240e+00  \n",
       "50%   -1.376587e-01  \n",
       "75%    9.809230e-01  \n",
       "max    9.809230e-01  \n",
       "\n",
       "[8 rows x 429 columns]"
      ]
     },
     "execution_count": 51,
     "metadata": {},
     "output_type": "execute_result"
    }
   ],
   "source": [
    "from sklearn import preprocessing\n",
    "\n",
    "scaler = preprocessing.StandardScaler()\n",
    "tweets_scaled = scaler.fit_transform(tweets_train)\n",
    "\n",
    "tweets_scaled = pd.DataFrame(tweets_scaled, columns=tweets_train.columns)\n",
    "tweets_scaled.describe()"
   ]
  },
  {
   "cell_type": "markdown",
   "id": "e3362605",
   "metadata": {},
   "source": [
    "Calculate WCSS to find best number of clusters"
   ]
  },
  {
   "cell_type": "code",
   "execution_count": 55,
   "id": "8aabd817",
   "metadata": {},
   "outputs": [],
   "source": [
    "from sklearn.cluster import KMeans\n",
    "wcss = []\n",
    "for k in range(1, 100):\n",
    "    kmeans = KMeans(init='k-means++', n_clusters=k, n_init=10, max_iter=100, random_state=88)\n",
    "    kmeans.fit(tweets_scaled)\n",
    "    wcss.append(kmeans.inertia_)"
   ]
  },
  {
   "cell_type": "code",
   "execution_count": 57,
   "id": "cb2d7476",
   "metadata": {},
   "outputs": [
    {
     "data": {
      "image/png": "[encoded data removed]",
      "text/plain": [
       "<Figure size 792x576 with 1 Axes>"
      ]
     },
     "metadata": {
      "needs_background": "light"
     },
     "output_type": "display_data"
    }
   ],
   "source": [
    "plt.figure(figsize=(11,8))\n",
    "plt.plot(range(1, 100), wcss, linewidth=2, color='black')\n",
    "plt.xticks(np.linspace(0,100,21))\n",
    "plt.xlabel('K')\n",
    "plt.ylabel('WCSS')\n",
    "plt.grid(axis='both')\n",
    "plt.show()"
   ]
  },
  {
   "cell_type": "markdown",
   "id": "c42a52fe",
   "metadata": {},
   "source": [
    "Since the WCSS is small, we choose the proper k, which is 50"
   ]
  },
  {
   "cell_type": "code",
   "execution_count": 91,
   "id": "c4c24216",
   "metadata": {},
   "outputs": [],
   "source": [
    "from sklearn.neighbors import NeighborhoodComponentsAnalysis\n",
    "from sklearn.neighbors import KNeighborsClassifier"
   ]
  },
  {
   "cell_type": "code",
   "execution_count": 216,
   "id": "ef9efd9b",
   "metadata": {},
   "outputs": [
    {
     "name": "stdout",
     "output_type": "stream",
     "text": [
      "0.46554067171423025\n"
     ]
    }
   ],
   "source": [
    "knn = KNeighborsClassifier(n_neighbors=50)\n",
    "knn.fit(X_train, y_train)\n",
    "print(knn.score(X_test, y_test))"
   ]
  },
  {
   "cell_type": "markdown",
   "id": "ff8bccf2",
   "metadata": {},
   "source": [
    "Method One: use Neighborhood Component Analysis"
   ]
  },
  {
   "cell_type": "code",
   "execution_count": 217,
   "id": "9d635c0e",
   "metadata": {},
   "outputs": [
    {
     "name": "stdout",
     "output_type": "stream",
     "text": [
      "0.46728790526111436\n"
     ]
    }
   ],
   "source": [
    "nca = NeighborhoodComponentsAnalysis(random_state=42)\n",
    "nca.fit(X_train, y_train)\n",
    "knn.fit(nca.transform(X_train), y_train)\n",
    "print(knn.score(nca.transform(X_test), y_test))"
   ]
  },
  {
   "cell_type": "markdown",
   "id": "33ae1b28",
   "metadata": {},
   "source": [
    "Method Two: choose the first 200 most frequent words"
   ]
  },
  {
   "cell_type": "code",
   "execution_count": 207,
   "id": "3050f548",
   "metadata": {},
   "outputs": [],
   "source": [
    "freq = X_train.sum().sort_values(ascending=False)\n",
    "X_train_new = X_train[freq.index[0:200]]\n",
    "freq_test = X_test.sum().sort_values(ascending=False)\n",
    "X_test_new = X_test[freq_test.index[0:200]]"
   ]
  },
  {
   "cell_type": "code",
   "execution_count": 212,
   "id": "0ab2608d",
   "metadata": {},
   "outputs": [
    {
     "data": {
      "text/plain": [
       "KNeighborsClassifier(n_neighbors=50)"
      ]
     },
     "execution_count": 212,
     "metadata": {},
     "output_type": "execute_result"
    }
   ],
   "source": [
    "knn_new = KNeighborsClassifier(n_neighbors=50)\n",
    "knn_new.fit(X_train_new, y_train)"
   ]
  },
  {
   "cell_type": "code",
   "execution_count": 213,
   "id": "a8287a4f",
   "metadata": {},
   "outputs": [
    {
     "name": "stdout",
     "output_type": "stream",
     "text": [
      "Confusion Matrix: \n",
      " [[ 541   18 1222]\n",
      " [ 309    7  631]\n",
      " [ 625    8 1790]]\n",
      "\n",
      "Accuracy: 0.45389244806833623\n"
     ]
    }
   ],
   "source": [
    "from sklearn.metrics import confusion_matrix\n",
    "from sklearn.metrics import accuracy_score\n",
    "y_pred = knn_new.predict(X_test_new)\n",
    "cm = confusion_matrix(y_test, y_pred)\n",
    "print (\"Confusion Matrix: \\n\", cm)\n",
    "print (\"\\nAccuracy:\", accuracy_score(y_test, y_pred))"
   ]
  },
  {
   "cell_type": "code",
   "execution_count": null,
   "id": "9711e07a",
   "metadata": {},
   "outputs": [],
   "source": []
  }
 ],
 "metadata": {
  "kernelspec": {
   "display_name": "Python 3 (ipykernel)",
   "language": "python",
   "name": "python3"
  },
  "language_info": {
   "codemirror_mode": {
    "name": "ipython",
    "version": 3
   },
   "file_extension": ".py",
   "mimetype": "text/x-python",
   "name": "python",
   "nbconvert_exporter": "python",
   "pygments_lexer": "ipython3",
   "version": "3.8.3"
  }
 },
 "nbformat": 4,
 "nbformat_minor": 5
}
